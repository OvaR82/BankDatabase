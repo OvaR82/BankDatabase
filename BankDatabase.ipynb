{
 "cells": [
  {
   "cell_type": "code",
   "execution_count": 1,
   "id": "341e20cc",
   "metadata": {},
   "outputs": [],
   "source": [
    "import pandas as pd\n",
    "import numpy as np\n",
    "\n",
    "# # Read in bank_marketing.csv as a pandas DataFrame\n",
    "df = pd.read_csv('bank_marketing.csv')"
   ]
  },
  {
   "cell_type": "code",
   "execution_count": 2,
   "id": "5449e36a",
   "metadata": {},
   "outputs": [
    {
     "name": "stderr",
     "output_type": "stream",
     "text": [
      "C:\\Users\\rubos\\AppData\\Local\\Temp\\ipykernel_18044\\1906349684.py:18: FutureWarning: The default value of regex will change from True to False in a future version. In addition, single character regular expressions will *not* be treated as literal strings when regex=True.\n",
      "  client['education'] = client['education'].str.replace('.', '_')\n",
      "C:\\Users\\rubos\\AppData\\Local\\Temp\\ipykernel_18044\\1906349684.py:22: FutureWarning: The default value of regex will change from True to False in a future version. In addition, single character regular expressions will *not* be treated as literal strings when regex=True.\n",
      "  client['job'] = client['job'].str.replace('.', '')\n"
     ]
    }
   ],
   "source": [
    "# Split the data into three DFs\n",
    "client = df[['client_id', 'age', 'job', 'marital', 'education', 'credit_default', 'housing', 'loan']]\n",
    "campaign = df[['client_id', 'contact', 'month', 'day_of_week', 'duration', 'campaign', 'pdays', 'previous', 'poutcome', 'y']]\n",
    "economics = df[['client_id', 'emp_var_rate', 'cons_price_idx', 'cons_conf_idx', 'euribor3m', 'nr_employed']]\n",
    "\n",
    "# Rename columns\n",
    "client = client.rename(columns={'client_id': 'id'})\n",
    "campaign = campaign.rename(columns={\n",
    "    'duration': 'contact_duration',\n",
    "    'previous': 'previous_campaign_contacts',\n",
    "    'y': 'campaign_outcome',\n",
    "    'poutcome': 'previous_outcome',\n",
    "    'campaign': 'number_contacts'\n",
    "})\n",
    "economics = economics.rename(columns={'euribor3m': 'euribor_three_months', 'nr_employed': 'number_employed'})\n",
    "\n",
    "# Clean columns\n",
    "client['education'] = client['education'].str.replace('.', '_')\n",
    "client['education'] = client['education'].replace('unknown', np.nan)\n",
    "\n",
    "# Remove periods from the \"job\" column\n",
    "client['job'] = client['job'].str.replace('.', '')\n",
    "\n",
    "# Convert \"success\" and \"failure\" to binary and \"nonexistent\" to null values\n",
    "campaign['previous_outcome'] = campaign['previous_outcome'].map({\n",
    "    'success': 1,\n",
    "    'failure': 0,\n",
    "    'nonexistent': np.nan\n",
    "})\n",
    "campaign['campaign_outcome'] = campaign['campaign_outcome'].map({'yes': 1, 'no': 0})\n",
    "\n",
    "# Add a column called campaign_id in campaign\n",
    "campaign['campaign_id'] = 1"
   ]
  },
  {
   "cell_type": "code",
   "execution_count": 3,
   "id": "6a8dad7d",
   "metadata": {},
   "outputs": [],
   "source": [
    "# Convert month abbreviations to integers\n",
    "month_dict = {\n",
    "    'jan': 1, 'feb': 2, 'mar': 3, 'apr': 4, 'may': 5, 'jun': 6,\n",
    "    'jul': 7, 'aug': 8, 'sep': 9, 'oct': 10, 'nov': 11, 'dec': 12\n",
    "}\n",
    "campaign['month'] = campaign['month'].map(month_dict)\n",
    "\n",
    "# Map day_of_week abbreviations to integers\n",
    "day_dict = {\n",
    "    'mon': 1, 'tue': 2, 'wed': 3, 'thu': 4, 'fri': 5, 'sat': 6, 'sun': 7\n",
    "}\n",
    "campaign['day_of_week'] = campaign['day_of_week'].map(day_dict)\n",
    "\n",
    "# Create a datetime column called last_contact_date\n",
    "campaign['last_contact_date'] = pd.to_datetime(2022 * 10000 + campaign['month'] * 100 + campaign['day_of_week'], format='%Y%m%d')\n",
    "\n",
    "# Remove redundant data\n",
    "campaign = campaign.drop(columns=['contact', 'month', 'day_of_week'])"
   ]
  },
  {
   "cell_type": "code",
   "execution_count": 4,
   "id": "3b98daa0",
   "metadata": {},
   "outputs": [],
   "source": [
    "# Save the three DataFrames to csv files without an index\n",
    "client.to_csv('client.csv', index=False)\n",
    "campaign.to_csv('campaign.csv', index=False)\n",
    "economics.to_csv('economics.csv', index=False)"
   ]
  },
  {
   "cell_type": "code",
   "execution_count": 5,
   "id": "cf053b8e",
   "metadata": {},
   "outputs": [],
   "source": [
    "# SQL code to create tables\n",
    "client_table = \"\"\"\n",
    "CREATE TABLE client (\n",
    "    id SERIAL PRIMARY KEY,\n",
    "    age INTEGER,\n",
    "    job TEXT,\n",
    "    marital TEXT,\n",
    "    education TEXT,\n",
    "    credit_default BOOLEAN,\n",
    "    housing BOOLEAN,\n",
    "    loan BOOLEAN\n",
    ");\n",
    "\\copy client from 'client.csv' DELIMITER ',' CSV HEADER\n",
    "\"\"\"\n",
    "\n",
    "campaign_table = \"\"\"\n",
    "CREATE TABLE campaign (\n",
    "    campaign_id SERIAL PRIMARY KEY,\n",
    "    client_id SERIAL REFERENCES client (id),\n",
    "    contact_duration INTEGER,\n",
    "    number_contacts INTEGER,\n",
    "    pdays INTEGER,\n",
    "    previous_campaign_contacts INTEGER,\n",
    "    previous_outcome BOOLEAN,\n",
    "    campaign_outcome BOOLEAN,\n",
    "    last_contact_date DATE\n",
    ");\n",
    "\\copy campaign from 'campaign.csv' DELIMITER ',' CSV HEADER\n",
    "\"\"\"\n",
    "\n",
    "economics_table = \"\"\"\n",
    "CREATE TABLE economics (\n",
    "    client_id SERIAL REFERENCES client (id),\n",
    "    emp_var_rate FLOAT,\n",
    "    cons_price_idx FLOAT,\n",
    "    cons_conf_idx FLOAT,\n",
    "    euribor_three_months FLOAT,\n",
    "    number_employed FLOAT\n",
    ");\n",
    "\\copy economics from 'economics.csv' DELIMITER ',' CSV HEADER\n",
    "\"\"\""
   ]
  },
  {
   "cell_type": "code",
   "execution_count": null,
   "id": "91c65b99",
   "metadata": {},
   "outputs": [],
   "source": []
  }
 ],
 "metadata": {
  "kernelspec": {
   "display_name": "Python 3 (ipykernel)",
   "language": "python",
   "name": "python3"
  },
  "language_info": {
   "codemirror_mode": {
    "name": "ipython",
    "version": 3
   },
   "file_extension": ".py",
   "mimetype": "text/x-python",
   "name": "python",
   "nbconvert_exporter": "python",
   "pygments_lexer": "ipython3",
   "version": "3.9.13"
  }
 },
 "nbformat": 4,
 "nbformat_minor": 5
}
